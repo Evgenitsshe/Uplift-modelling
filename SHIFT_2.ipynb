{
 "cells": [
  {
   "cell_type": "code",
   "execution_count": null,
   "id": "b92ab3e8",
   "metadata": {},
   "outputs": [],
   "source": [
    "! pip install optuna"
   ]
  },
  {
   "cell_type": "code",
   "execution_count": 3,
   "id": "e2de8c08",
   "metadata": {},
   "outputs": [],
   "source": [
    "import pandas as pd\n",
    "import plotly.express as px\n",
    "import numpy as np\n",
    "import matplotlib.pyplot as plt\n",
    "from sklearn.model_selection import train_test_split\n",
    "\n",
    "from catboost import CatBoostClassifier\n",
    "\n",
    "from sklearn.metrics import roc_auc_score\n",
    "from sklearn.metrics import precision_score\n",
    "from sklearn.metrics import recall_score\n",
    "pd.set_option('display.max_columns', None)\n",
    "pd.set_option('display.max_row', None)\n",
    "from sklearn.metrics import classification_report\n",
    "import optuna\n",
    "from optuna.samplers import TPESampler"
   ]
  },
  {
   "cell_type": "code",
   "execution_count": 4,
   "id": "f7686d1f",
   "metadata": {
    "scrolled": true
   },
   "outputs": [
    {
     "name": "stdout",
     "output_type": "stream",
     "text": [
      "clients (200039, 6)\n",
      "train (140027, 3)\n",
      "products (43038, 11)\n",
      "test (60012, 1)\n",
      "test_purch (6883738, 13)\n",
      "train_purch (15998952, 13)\n"
     ]
    }
   ],
   "source": [
    "df_train = pd.read_csv('C:/Users/adosf/OneDrive/Рабочий стол/ЦФТ/x5-uplift-valid/data/train.csv')\n",
    "df_test = pd.read_csv('C:/Users/adosf/OneDrive/Рабочий стол/ЦФТ/x5-uplift-valid/data/test.csv')\n",
    "df_clients = pd.read_csv('C:/Users/adosf/OneDrive/Рабочий стол/ЦФТ/x5-uplift-valid/data/clients2.csv')\n",
    "df_products = pd.read_csv('C:/Users/adosf/OneDrive/Рабочий стол/ЦФТ/x5-uplift-valid/data/products.csv')\n",
    "\n",
    "df_test_purch = pd.read_csv('C:/Users/adosf/OneDrive/Рабочий стол/ЦФТ/x5-uplift-valid/test_purch/test_purch.csv', parse_dates=['transaction_datetime'])\n",
    "df_train_purch = pd.read_csv('C:/Users/adosf/OneDrive/Рабочий стол/ЦФТ/x5-uplift-valid/train_purch/train_purch.csv', parse_dates=['transaction_datetime'])\n",
    "\n",
    "print('clients', df_clients.shape)\n",
    "print('train', df_train.shape)\n",
    "print('products', df_products.shape)\n",
    "print('test', df_test.shape)\n",
    "print('test_purch', df_test_purch.shape)\n",
    "print('train_purch', df_train_purch.shape)"
   ]
  },
  {
   "cell_type": "markdown",
   "id": "f25ebf8f",
   "metadata": {},
   "source": [
    "### Предобработка. Сохранил предобработку."
   ]
  },
  {
   "cell_type": "code",
   "execution_count": 21,
   "id": "4eaa41a1",
   "metadata": {},
   "outputs": [],
   "source": [
    "df_features_train = pd.read_csv('C:/Users/adosf/OneDrive/Рабочий стол/ЦФТ/x5-uplift-valid/data/df_features_train.csv')\n",
    "df_features_test = pd.read_csv('C:/Users/adosf/OneDrive/Рабочий стол/ЦФТ/x5-uplift-valid/data/df_features_test.csv')"
   ]
  },
  {
   "cell_type": "code",
   "execution_count": null,
   "id": "e3b6c80b",
   "metadata": {},
   "outputs": [],
   "source": []
  },
  {
   "cell_type": "code",
   "execution_count": 3,
   "id": "5ea60853",
   "metadata": {},
   "outputs": [
    {
     "name": "stdout",
     "output_type": "stream",
     "text": [
      "Размер df_features_train: (140027, 10)\n",
      "Размер df_features_test: (60012, 8)\n"
     ]
    }
   ],
   "source": [
    "# объединение дата фреймов\n",
    "df_features_train = df_train.merge(df_clients, how='inner', on='client_id')\n",
    "df_features_test = df_test.merge(df_clients, how='inner', on='client_id')\n",
    "\n",
    "# подготовка дата фрейма для модели\n",
    "df_features_train['first_issue_time'] = (pd.to_datetime(df_features_train['first_issue_date']) - pd.Timestamp('1970-01-01')) // pd.Timedelta('1s') # перевел дату в формат unix\n",
    "df_features_train['first_redeem_time'] = (pd.to_datetime(df_features_train['first_redeem_date']) - pd.Timestamp('1970-01-01')) // pd.Timedelta('1s')\n",
    "df_features_train['first_redeem_delay'] = df_features_train['first_redeem_time'] - df_features_train['first_issue_time'] \n",
    "df_features_train = df_features_train.drop(['client_id.1', 'first_issue_date', 'first_redeem_date'], axis=1)\n",
    "\n",
    "df_features_test['first_issue_time'] = (pd.to_datetime(df_features_test['first_issue_date']) - pd.Timestamp('1970-01-01')) // pd.Timedelta('1s') # перевел дату в формат unix\n",
    "df_features_test['first_redeem_time'] = (pd.to_datetime(df_features_test['first_redeem_date']) - pd.Timestamp('1970-01-01')) // pd.Timedelta('1s')\n",
    "df_features_test['first_redeem_delay'] = df_features_test['first_redeem_time'] - df_features_test['first_issue_time'] \n",
    "df_features_test = df_features_test.drop(['client_id.1', 'first_issue_date', 'first_redeem_date'], axis=1)\n",
    "\n",
    "#заполняю пропуски в дате\n",
    "from sklearn.impute import KNNImputer\n",
    "imputer = KNNImputer(n_neighbors=2, weights=\"uniform\")\n",
    "df_features_train.first_redeem_time = imputer.fit_transform(np.array(df_features_train.first_redeem_time).reshape(-1, 1))\n",
    "df_features_train.first_redeem_delay = imputer.fit_transform(np.array(df_features_train.first_redeem_delay).reshape(-1, 1))\n",
    "\n",
    "df_features_test.first_redeem_time = imputer.fit_transform(np.array(df_features_test.first_redeem_time).reshape(-1, 1))\n",
    "df_features_test.first_redeem_delay = imputer.fit_transform(np.array(df_features_test.first_redeem_delay).reshape(-1, 1))\n",
    "\n",
    "# кодирую категориальные переменные\n",
    "df_features_train = df_features_train.assign(**pd.get_dummies(df_features_train.gender))\n",
    "df_features_train = df_features_train.drop('gender', axis=1)\n",
    "\n",
    "df_features_test = df_features_test.assign(**pd.get_dummies(df_features_test.gender))\n",
    "df_features_test = df_features_test.drop('gender', axis=1)\n",
    "\n",
    "\n",
    "\n",
    "print('Размер df_features_train:', df_features_train.shape)\n",
    "print('Размер df_features_test:', df_features_test.shape)"
   ]
  },
  {
   "cell_type": "markdown",
   "id": "fa34bdaf",
   "metadata": {},
   "source": [
    "### Работа с train. Объеденяю все признаки для train в один датасет. Создаю новые признаки."
   ]
  },
  {
   "cell_type": "code",
   "execution_count": 5,
   "id": "a3a7c952",
   "metadata": {},
   "outputs": [],
   "source": [
    "new_train_2 = pd.read_csv('C:/Users/adosf/OneDrive/Рабочий стол/ЦФТ/x5-uplift-valid/data/new_train2.csv')"
   ]
  },
  {
   "cell_type": "code",
   "execution_count": 38,
   "id": "ac1bbd7e",
   "metadata": {
    "scrolled": true
   },
   "outputs": [],
   "source": [
    "# drop_ features = ['trn_sum_from_red',\n",
    "#                   'product_quantity', \n",
    "#                   'express_points_spent',\n",
    "#                   'regular_points_spent',\n",
    "#                   'express_points_received',\n",
    "#                   'trn_sum_from_iss']"
   ]
  },
  {
   "cell_type": "code",
   "execution_count": null,
   "id": "ffb123cf",
   "metadata": {},
   "outputs": [],
   "source": []
  },
  {
   "cell_type": "code",
   "execution_count": 9,
   "id": "b8a52c7d",
   "metadata": {},
   "outputs": [],
   "source": [
    "new_train_2 = df_train_purch.merge(df_features_train, how='left', on='client_id')"
   ]
  },
  {
   "cell_type": "code",
   "execution_count": 10,
   "id": "55e352e2",
   "metadata": {},
   "outputs": [
    {
     "data": {
      "text/html": [
       "<div>\n",
       "<style scoped>\n",
       "    .dataframe tbody tr th:only-of-type {\n",
       "        vertical-align: middle;\n",
       "    }\n",
       "\n",
       "    .dataframe tbody tr th {\n",
       "        vertical-align: top;\n",
       "    }\n",
       "\n",
       "    .dataframe thead th {\n",
       "        text-align: right;\n",
       "    }\n",
       "</style>\n",
       "<table border=\"1\" class=\"dataframe\">\n",
       "  <thead>\n",
       "    <tr style=\"text-align: right;\">\n",
       "      <th></th>\n",
       "      <th>client_id</th>\n",
       "      <th>transaction_count</th>\n",
       "      <th>store_count</th>\n",
       "      <th>product_count</th>\n",
       "      <th>product_sum</th>\n",
       "      <th>purchase_sum_max</th>\n",
       "      <th>transaction_shop</th>\n",
       "      <th>transaction_product</th>\n",
       "      <th>transaction_product_sum</th>\n",
       "    </tr>\n",
       "  </thead>\n",
       "  <tbody>\n",
       "    <tr>\n",
       "      <th>0</th>\n",
       "      <td>000012768d</td>\n",
       "      <td>4</td>\n",
       "      <td>3</td>\n",
       "      <td>46</td>\n",
       "      <td>54.0</td>\n",
       "      <td>1007.00</td>\n",
       "      <td>1.333333</td>\n",
       "      <td>11.500000</td>\n",
       "      <td>13.500000</td>\n",
       "    </tr>\n",
       "    <tr>\n",
       "      <th>1</th>\n",
       "      <td>000036f903</td>\n",
       "      <td>32</td>\n",
       "      <td>5</td>\n",
       "      <td>96</td>\n",
       "      <td>169.0</td>\n",
       "      <td>700.00</td>\n",
       "      <td>6.400000</td>\n",
       "      <td>3.000000</td>\n",
       "      <td>5.281250</td>\n",
       "    </tr>\n",
       "    <tr>\n",
       "      <th>2</th>\n",
       "      <td>0001f552b0</td>\n",
       "      <td>15</td>\n",
       "      <td>4</td>\n",
       "      <td>79</td>\n",
       "      <td>106.0</td>\n",
       "      <td>1034.55</td>\n",
       "      <td>3.750000</td>\n",
       "      <td>5.266667</td>\n",
       "      <td>7.066667</td>\n",
       "    </tr>\n",
       "  </tbody>\n",
       "</table>\n",
       "</div>"
      ],
      "text/plain": [
       "    client_id  transaction_count  store_count  product_count  product_sum  \\\n",
       "0  000012768d                  4            3             46         54.0   \n",
       "1  000036f903                 32            5             96        169.0   \n",
       "2  0001f552b0                 15            4             79        106.0   \n",
       "\n",
       "   purchase_sum_max  transaction_shop  transaction_product  \\\n",
       "0           1007.00          1.333333            11.500000   \n",
       "1            700.00          6.400000             3.000000   \n",
       "2           1034.55          3.750000             5.266667   \n",
       "\n",
       "   transaction_product_sum  \n",
       "0                13.500000  \n",
       "1                 5.281250  \n",
       "2                 7.066667  "
      ]
     },
     "execution_count": 10,
     "metadata": {},
     "output_type": "execute_result"
    }
   ],
   "source": [
    "new_features = df_train_purch.groupby('client_id', as_index=False).agg({'transaction_id': 'nunique', \n",
    "                                                                        'store_id': 'nunique',\n",
    "                                                                        'product_id':'nunique',\n",
    "                                                                        'product_quantity':'sum',\n",
    "                                                                        'purchase_sum':'max',\n",
    "                                                                        'trn_sum_from_red': 'sum'\n",
    "                                                                        }).rename(columns={'transaction_id':'transaction_count', \n",
    "                                                                                                 'store_id':'store_count',\n",
    "                                                                                           'product_id':'product_count',\n",
    "                                                                                           'product_quantity':'product_sum',\n",
    "                                                                                           'purchase_sum':'purchase_sum_max',\n",
    "                                                                                           'trn_sum_from_red':'trn_sum_from_red'\n",
    "                                                                                           })\n",
    "\n",
    "new_features = new_features.assign(transaction_shop = new_features.transaction_count / new_features.store_count,\n",
    "                                   transaction_product = new_features.product_count / new_features.transaction_count,\n",
    "                                   transaction_product_sum = new_features.product_sum / new_features.transaction_count)\n",
    "new_features.head(3)                                                                    "
   ]
  },
  {
   "cell_type": "code",
   "execution_count": 11,
   "id": "532be20d",
   "metadata": {},
   "outputs": [],
   "source": [
    "new_train_2 = new_train_2.merge(new_features, how='inner', on='client_id')"
   ]
  },
  {
   "cell_type": "markdown",
   "id": "0a2768f3",
   "metadata": {},
   "source": [
    "### Добавляю новый флаг группы"
   ]
  },
  {
   "cell_type": "code",
   "execution_count": 4,
   "id": "ba11e110",
   "metadata": {},
   "outputs": [
    {
     "name": "stdout",
     "output_type": "stream",
     "text": [
      "Размер new_train_2: (15998952, 31)\n"
     ]
    }
   ],
   "source": [
    "# создание нового флага принадлежности к нужной группе\n",
    "new_train_2 = new_train_2.assign(new_target = 0)\n",
    "\n",
    "# замена 0 на 1 по условию\n",
    "new_train_2['new_target'].mask(((new_train_2['treatment_flg'] == 1) & (new_train_2['purchased'] == 1)), 1, inplace=True)\n",
    "new_train_2['new_target'].mask(((new_train_2['treatment_flg'] == 0) & (new_train_2['purchased'] == 0)), 1, inplace=True)\n",
    "\n",
    "print('Размер new_train_2:', new_train_2.shape)"
   ]
  },
  {
   "cell_type": "markdown",
   "id": "490acd41",
   "metadata": {},
   "source": [
    "### Создаю признаки от свойств товара"
   ]
  },
  {
   "cell_type": "code",
   "execution_count": 23,
   "id": "c04a4550",
   "metadata": {},
   "outputs": [],
   "source": [
    "big_features = pd.read_csv('C:/Users/adosf/OneDrive/Рабочий стол/ЦФТ/x5-uplift-valid/data/big_features.csv')"
   ]
  },
  {
   "cell_type": "code",
   "execution_count": 6,
   "id": "dc9bea69",
   "metadata": {},
   "outputs": [],
   "source": [
    "df_products = df_products.astype({'segment_id' : str})\n"
   ]
  },
  {
   "cell_type": "code",
   "execution_count": 7,
   "id": "1799f671",
   "metadata": {},
   "outputs": [],
   "source": [
    "big_features = new_train_2.merge(df_products, how='left', on='product_id')"
   ]
  },
  {
   "cell_type": "code",
   "execution_count": 7,
   "id": "827f5014",
   "metadata": {},
   "outputs": [
    {
     "data": {
      "text/html": [
       "<div>\n",
       "<style scoped>\n",
       "    .dataframe tbody tr th:only-of-type {\n",
       "        vertical-align: middle;\n",
       "    }\n",
       "\n",
       "    .dataframe tbody tr th {\n",
       "        vertical-align: top;\n",
       "    }\n",
       "\n",
       "    .dataframe thead th {\n",
       "        text-align: right;\n",
       "    }\n",
       "</style>\n",
       "<table border=\"1\" class=\"dataframe\">\n",
       "  <thead>\n",
       "    <tr style=\"text-align: right;\">\n",
       "      <th></th>\n",
       "      <th>client_id</th>\n",
       "      <th>transaction_id</th>\n",
       "      <th>transaction_datetime</th>\n",
       "      <th>regular_points_received</th>\n",
       "      <th>express_points_received</th>\n",
       "      <th>regular_points_spent</th>\n",
       "      <th>express_points_spent</th>\n",
       "      <th>purchase_sum</th>\n",
       "      <th>store_id</th>\n",
       "      <th>product_id</th>\n",
       "      <th>product_quantity</th>\n",
       "      <th>trn_sum_from_iss</th>\n",
       "      <th>trn_sum_from_red</th>\n",
       "      <th>treatment_flg</th>\n",
       "      <th>purchased</th>\n",
       "      <th>age</th>\n",
       "      <th>first_issue_time</th>\n",
       "      <th>first_redeem_time</th>\n",
       "      <th>first_redeem_delay</th>\n",
       "      <th>F</th>\n",
       "      <th>M</th>\n",
       "      <th>U</th>\n",
       "      <th>transaction_count</th>\n",
       "      <th>store_count</th>\n",
       "      <th>product_count</th>\n",
       "      <th>product_sum</th>\n",
       "      <th>purchase_sum_max</th>\n",
       "      <th>transaction_shop</th>\n",
       "      <th>transaction_product</th>\n",
       "      <th>transaction_product_sum</th>\n",
       "      <th>new_target</th>\n",
       "      <th>level_1</th>\n",
       "      <th>level_2</th>\n",
       "      <th>level_3</th>\n",
       "      <th>level_4</th>\n",
       "      <th>segment_id</th>\n",
       "      <th>brand_id</th>\n",
       "      <th>vendor_id</th>\n",
       "      <th>netto</th>\n",
       "      <th>is_own_trademark</th>\n",
       "      <th>is_alcohol</th>\n",
       "    </tr>\n",
       "  </thead>\n",
       "  <tbody>\n",
       "    <tr>\n",
       "      <th>0</th>\n",
       "      <td>000012768d</td>\n",
       "      <td>7e3e2e3984</td>\n",
       "      <td>2018-12-01 07:12:45</td>\n",
       "      <td>10.0</td>\n",
       "      <td>0.0</td>\n",
       "      <td>0.0</td>\n",
       "      <td>0.0</td>\n",
       "      <td>1007.0</td>\n",
       "      <td>54a4a11a29</td>\n",
       "      <td>9a80204f78</td>\n",
       "      <td>2.0</td>\n",
       "      <td>80.0</td>\n",
       "      <td>NaN</td>\n",
       "      <td>0</td>\n",
       "      <td>1</td>\n",
       "      <td>45</td>\n",
       "      <td>1501947648</td>\n",
       "      <td>1.515094e+09</td>\n",
       "      <td>13146559.0</td>\n",
       "      <td>0</td>\n",
       "      <td>0</td>\n",
       "      <td>1</td>\n",
       "      <td>4</td>\n",
       "      <td>3</td>\n",
       "      <td>46</td>\n",
       "      <td>54.0</td>\n",
       "      <td>1007.0</td>\n",
       "      <td>1.333333</td>\n",
       "      <td>11.5</td>\n",
       "      <td>13.5</td>\n",
       "      <td>0</td>\n",
       "      <td>e344ab2e71</td>\n",
       "      <td>ed2ad1797c</td>\n",
       "      <td>b25baa9dd5</td>\n",
       "      <td>51647c28e9</td>\n",
       "      <td>116.0</td>\n",
       "      <td>082560ca58</td>\n",
       "      <td>63243765ed</td>\n",
       "      <td>0.031</td>\n",
       "      <td>0</td>\n",
       "      <td>0</td>\n",
       "    </tr>\n",
       "  </tbody>\n",
       "</table>\n",
       "</div>"
      ],
      "text/plain": [
       "    client_id transaction_id transaction_datetime  regular_points_received  \\\n",
       "0  000012768d     7e3e2e3984  2018-12-01 07:12:45                     10.0   \n",
       "\n",
       "   express_points_received  regular_points_spent  express_points_spent  \\\n",
       "0                      0.0                   0.0                   0.0   \n",
       "\n",
       "   purchase_sum    store_id  product_id  product_quantity  trn_sum_from_iss  \\\n",
       "0        1007.0  54a4a11a29  9a80204f78               2.0              80.0   \n",
       "\n",
       "   trn_sum_from_red  treatment_flg  purchased  age  first_issue_time  \\\n",
       "0               NaN              0          1   45        1501947648   \n",
       "\n",
       "   first_redeem_time  first_redeem_delay  F  M  U  transaction_count  \\\n",
       "0       1.515094e+09          13146559.0  0  0  1                  4   \n",
       "\n",
       "   store_count  product_count  product_sum  purchase_sum_max  \\\n",
       "0            3             46         54.0            1007.0   \n",
       "\n",
       "   transaction_shop  transaction_product  transaction_product_sum  new_target  \\\n",
       "0          1.333333                 11.5                     13.5           0   \n",
       "\n",
       "      level_1     level_2     level_3     level_4 segment_id    brand_id  \\\n",
       "0  e344ab2e71  ed2ad1797c  b25baa9dd5  51647c28e9      116.0  082560ca58   \n",
       "\n",
       "    vendor_id  netto  is_own_trademark  is_alcohol  \n",
       "0  63243765ed  0.031                 0           0  "
      ]
     },
     "execution_count": 7,
     "metadata": {},
     "output_type": "execute_result"
    }
   ],
   "source": [
    "big_features.head(1)"
   ]
  },
  {
   "cell_type": "code",
   "execution_count": 8,
   "id": "7f9651a5",
   "metadata": {},
   "outputs": [],
   "source": [
    "drop_features = ['trn_sum_from_red',\n",
    "                  'product_quantity', \n",
    "                  'express_points_spent',\n",
    "                  'regular_points_spent',\n",
    "                  'express_points_received',\n",
    "                  'trn_sum_from_iss',\n",
    "                 'transaction_datetime',\n",
    "                'transaction_id']\n",
    "big_features = big_features.drop(drop_features, axis=1)"
   ]
  },
  {
   "cell_type": "code",
   "execution_count": 9,
   "id": "8b5a3f10",
   "metadata": {
    "scrolled": true
   },
   "outputs": [
    {
     "data": {
      "text/html": [
       "<div>\n",
       "<style scoped>\n",
       "    .dataframe tbody tr th:only-of-type {\n",
       "        vertical-align: middle;\n",
       "    }\n",
       "\n",
       "    .dataframe tbody tr th {\n",
       "        vertical-align: top;\n",
       "    }\n",
       "\n",
       "    .dataframe thead th {\n",
       "        text-align: right;\n",
       "    }\n",
       "</style>\n",
       "<table border=\"1\" class=\"dataframe\">\n",
       "  <thead>\n",
       "    <tr style=\"text-align: right;\">\n",
       "      <th></th>\n",
       "      <th>client_id</th>\n",
       "      <th>regular_points_received</th>\n",
       "      <th>purchase_sum</th>\n",
       "      <th>store_id</th>\n",
       "      <th>product_id</th>\n",
       "      <th>treatment_flg</th>\n",
       "      <th>purchased</th>\n",
       "      <th>age</th>\n",
       "      <th>first_issue_time</th>\n",
       "      <th>first_redeem_time</th>\n",
       "      <th>first_redeem_delay</th>\n",
       "      <th>F</th>\n",
       "      <th>M</th>\n",
       "      <th>U</th>\n",
       "      <th>transaction_count</th>\n",
       "      <th>store_count</th>\n",
       "      <th>product_count</th>\n",
       "      <th>product_sum</th>\n",
       "      <th>purchase_sum_max</th>\n",
       "      <th>transaction_shop</th>\n",
       "      <th>transaction_product</th>\n",
       "      <th>transaction_product_sum</th>\n",
       "      <th>new_target</th>\n",
       "      <th>level_1</th>\n",
       "      <th>level_2</th>\n",
       "      <th>level_3</th>\n",
       "      <th>level_4</th>\n",
       "      <th>segment_id</th>\n",
       "      <th>brand_id</th>\n",
       "      <th>vendor_id</th>\n",
       "      <th>netto</th>\n",
       "      <th>is_own_trademark</th>\n",
       "      <th>is_alcohol</th>\n",
       "    </tr>\n",
       "  </thead>\n",
       "  <tbody>\n",
       "    <tr>\n",
       "      <th>0</th>\n",
       "      <td>000012768d</td>\n",
       "      <td>10.0</td>\n",
       "      <td>1007.0</td>\n",
       "      <td>54a4a11a29</td>\n",
       "      <td>9a80204f78</td>\n",
       "      <td>0</td>\n",
       "      <td>1</td>\n",
       "      <td>45</td>\n",
       "      <td>1501947648</td>\n",
       "      <td>1.515094e+09</td>\n",
       "      <td>13146559.0</td>\n",
       "      <td>0</td>\n",
       "      <td>0</td>\n",
       "      <td>1</td>\n",
       "      <td>4</td>\n",
       "      <td>3</td>\n",
       "      <td>46</td>\n",
       "      <td>54.0</td>\n",
       "      <td>1007.0</td>\n",
       "      <td>1.333333</td>\n",
       "      <td>11.5</td>\n",
       "      <td>13.5</td>\n",
       "      <td>0</td>\n",
       "      <td>e344ab2e71</td>\n",
       "      <td>ed2ad1797c</td>\n",
       "      <td>b25baa9dd5</td>\n",
       "      <td>51647c28e9</td>\n",
       "      <td>116.0</td>\n",
       "      <td>082560ca58</td>\n",
       "      <td>63243765ed</td>\n",
       "      <td>0.031</td>\n",
       "      <td>0</td>\n",
       "      <td>0</td>\n",
       "    </tr>\n",
       "  </tbody>\n",
       "</table>\n",
       "</div>"
      ],
      "text/plain": [
       "    client_id  regular_points_received  purchase_sum    store_id  product_id  \\\n",
       "0  000012768d                     10.0        1007.0  54a4a11a29  9a80204f78   \n",
       "\n",
       "   treatment_flg  purchased  age  first_issue_time  first_redeem_time  \\\n",
       "0              0          1   45        1501947648       1.515094e+09   \n",
       "\n",
       "   first_redeem_delay  F  M  U  transaction_count  store_count  product_count  \\\n",
       "0          13146559.0  0  0  1                  4            3             46   \n",
       "\n",
       "   product_sum  purchase_sum_max  transaction_shop  transaction_product  \\\n",
       "0         54.0            1007.0          1.333333                 11.5   \n",
       "\n",
       "   transaction_product_sum  new_target     level_1     level_2     level_3  \\\n",
       "0                     13.5           0  e344ab2e71  ed2ad1797c  b25baa9dd5   \n",
       "\n",
       "      level_4 segment_id    brand_id   vendor_id  netto  is_own_trademark  \\\n",
       "0  51647c28e9      116.0  082560ca58  63243765ed  0.031                 0   \n",
       "\n",
       "   is_alcohol  \n",
       "0           0  "
      ]
     },
     "execution_count": 9,
     "metadata": {},
     "output_type": "execute_result"
    }
   ],
   "source": [
    "big_features.head(1)"
   ]
  },
  {
   "cell_type": "code",
   "execution_count": null,
   "id": "f25002e2",
   "metadata": {},
   "outputs": [],
   "source": []
  },
  {
   "cell_type": "code",
   "execution_count": 16,
   "id": "ffe16db1",
   "metadata": {},
   "outputs": [],
   "source": [
    "cat_features =['store_id', \n",
    "               'product_id', \n",
    "               'level_1', \n",
    "               'level_2', \n",
    "               'level_3', \n",
    "               'level_4', \n",
    "               'brand_id', \n",
    "               'vendor_id',\n",
    "              'segment_id']"
   ]
  },
  {
   "cell_type": "code",
   "execution_count": 10,
   "id": "78bdec02",
   "metadata": {},
   "outputs": [],
   "source": [
    "big_features.to_csv(r'C:/Users/adosf/OneDrive/Рабочий стол/ЦФТ/x5-uplift-valid/data/big_features.csv',index=False)"
   ]
  },
  {
   "cell_type": "markdown",
   "id": "c93cf021",
   "metadata": {},
   "source": [
    "### Работа с test. Объеденяю все признаки для test в один датасет. Создаю новые признаки."
   ]
  },
  {
   "cell_type": "code",
   "execution_count": 7,
   "id": "91cd07d9",
   "metadata": {},
   "outputs": [],
   "source": [
    "new_test = df_test_purch.merge(df_features_test, how='left', on='client_id')"
   ]
  },
  {
   "cell_type": "code",
   "execution_count": 8,
   "id": "d482fa8f",
   "metadata": {},
   "outputs": [],
   "source": [
    "# Создаю новые признаки\n",
    "new_features_test = df_test_purch.groupby('client_id', as_index=False).agg({'transaction_id': 'nunique', \n",
    "                                                                        'store_id': 'nunique',\n",
    "                                                                        'product_id':'nunique',\n",
    "                                                                        'product_quantity':'sum',\n",
    "                                                                        'purchase_sum':'max'                                                                      \n",
    "                                                                        }).rename(columns={'transaction_id':'transaction_count', \n",
    "                                                                                                 'store_id':'store_count',\n",
    "                                                                                           'product_id':'product_count',\n",
    "                                                                                           'product_quantity':'product_sum',\n",
    "                                                                                           'purchase_sum':'purchase_sum_max',                                                                                     \n",
    "                                                                                           })\n",
    "\n",
    "new_features_test = new_features_test.assign(transaction_shop = new_features_test.transaction_count / new_features_test.store_count,\n",
    "                                   transaction_product = new_features_test.product_count / new_features_test.transaction_count,\n",
    "                                   transaction_product_sum = new_features_test.product_sum / new_features_test.transaction_count)                                                                "
   ]
  },
  {
   "cell_type": "code",
   "execution_count": 9,
   "id": "c5e053e2",
   "metadata": {},
   "outputs": [],
   "source": [
    "new_test = new_test.merge(new_features_test, how='inner', on='client_id')"
   ]
  },
  {
   "cell_type": "code",
   "execution_count": 10,
   "id": "30a76b50",
   "metadata": {},
   "outputs": [],
   "source": [
    "new_test = new_test.drop(['transaction_id', \n",
    "                          'transaction_datetime', \n",
    "                          'store_id', \n",
    "                          'product_id'], axis=1)"
   ]
  },
  {
   "cell_type": "markdown",
   "id": "e3efa1b4",
   "metadata": {},
   "source": [
    "### Подбор гиперпараметров"
   ]
  },
  {
   "cell_type": "code",
   "execution_count": null,
   "id": "18259195",
   "metadata": {},
   "outputs": [],
   "source": [
    "def objective(trial):\n",
    "    model = CatBoostClassifier(\n",
    "        iterations=trial.suggest_int(\"iterations\", 100, 1000),\n",
    "        learning_rate=trial.suggest_float(\"learning_rate\", 1e-3, 1e-1, log=True),\n",
    "        depth=trial.suggest_int(\"depth\", 4, 10),\n",
    "        l2_leaf_reg=trial.suggest_float(\"l2_leaf_reg\", 1e-8, 100.0, log=True),\n",
    "        bootstrap_type=trial.suggest_categorical(\"bootstrap_type\", [\"Bayesian\"]),\n",
    "        random_strength=trial.suggest_float(\"random_strength\", 1e-8, 10.0, log=True),\n",
    "        bagging_temperature=trial.suggest_float(\"bagging_temperature\", 0.0, 10.0),\n",
    "        od_type=trial.suggest_categorical(\"od_type\", [\"IncToDec\", \"Iter\"]),\n",
    "        od_wait=trial.suggest_int(\"od_wait\", 10, 50),\n",
    "        verbose=False\n",
    "    )\n",
    "    model.fit(X_train, y_train)\n",
    "    y_pred = model.predict(X_val)\n",
    "    return recall_score(y_val, y_pred) #accuracy_score(y_val, y_pred) \n",
    "\n",
    "optuna.integration.CatBoostPruningCallback\n",
    "optuna.logging.set_verbosity(optuna.logging.WARNING)\n",
    "\n",
    "sampler = TPESampler(seed=1)\n",
    "study = optuna.create_study(study_name=\"catboost\", direction=\"maximize\", sampler=sampler)\n",
    "study.optimize(objective, n_trials=100)\n",
    "\n",
    "trial = study.best_trial"
   ]
  },
  {
   "cell_type": "code",
   "execution_count": null,
   "id": "3293b147",
   "metadata": {},
   "outputs": [],
   "source": [
    "clf = CatBoostClassifier(**trial.params,verbose=False)\n",
    "clf.fit(X_train, y_train, cat_features=cat_features)\n",
    "pred_clf = clf.predict(X_val)\n"
   ]
  },
  {
   "cell_type": "markdown",
   "id": "0c9f2fdb",
   "metadata": {},
   "source": [
    "### Объявление переменных. Построение модели."
   ]
  },
  {
   "cell_type": "code",
   "execution_count": 11,
   "id": "2fb393d6",
   "metadata": {},
   "outputs": [],
   "source": [
    "# определение переменных\n",
    "X = new_train_2.drop(['purchased', 'client_id', 'treatment_flg', 'new_target'], axis=1)\n",
    "y = new_train_2['new_target']\n",
    "\n",
    "X_train, X_val, y_train, y_val = train_test_split(X, y, test_size=0.3, random_state=42)"
   ]
  },
  {
   "cell_type": "markdown",
   "id": "3dd0df28",
   "metadata": {},
   "source": [
    "# ПРОВЕРКА"
   ]
  },
  {
   "cell_type": "code",
   "execution_count": 24,
   "id": "ab698bdb",
   "metadata": {},
   "outputs": [
    {
     "name": "stdout",
     "output_type": "stream",
     "text": [
      "Размер new_train_2: (15998952, 33)\n"
     ]
    }
   ],
   "source": [
    "# создание нового флага принадлежности к нужной группе\n",
    "big_features = big_features.assign(new_target = 0)\n",
    "\n",
    "# замена 0 на 1 по условию\n",
    "big_features['new_target'].mask(((big_features['treatment_flg'] == 1) & (big_features['purchased'] == 1)), 1, inplace=True)\n",
    "big_features['new_target'].mask(((big_features['treatment_flg'] == 0) & (big_features['purchased'] == 0)), 1, inplace=True)\n",
    "\n",
    "print('Размер new_train_2:', big_features.shape)"
   ]
  },
  {
   "cell_type": "code",
   "execution_count": 28,
   "id": "42306209",
   "metadata": {},
   "outputs": [],
   "source": [
    "big_features = big_features.astype({'store_id' : str,\n",
    "                                 'product_id' : str,\n",
    "                                 'level_1' : str,\n",
    "                                 'level_2' : str,\n",
    "                                 'level_3' : str,\n",
    "                                 'level_4' : str,\n",
    "                                 'brand_id' : str,\n",
    "                                 'vendor_id' : str,\n",
    "                                 'segment_id' : str})"
   ]
  },
  {
   "cell_type": "code",
   "execution_count": 34,
   "id": "38e76480",
   "metadata": {},
   "outputs": [],
   "source": [
    "big_features = big_features.astype({'store_id' : 'string',\n",
    "                                 'product_id' : 'string',\n",
    "                                 'level_1' : 'string',\n",
    "                                 'level_2' : 'string',\n",
    "                                 'level_3' : 'string',\n",
    "                                 'level_4' : 'string',\n",
    "                                 'brand_id' : 'string',\n",
    "                                 'vendor_id' : 'string',\n",
    "                                 'segment_id' : 'string'})"
   ]
  },
  {
   "cell_type": "code",
   "execution_count": 36,
   "id": "2e8ab97a",
   "metadata": {},
   "outputs": [],
   "source": [
    "# определение переменных\n",
    "X = big_features.drop(['purchased', 'client_id', 'treatment_flg', 'new_target'], axis=1)\n",
    "y = big_features['new_target']\n",
    "\n",
    "X_train, X_val, y_train, y_val = train_test_split(X, y, test_size=0.3, random_state=42)"
   ]
  },
  {
   "cell_type": "code",
   "execution_count": null,
   "id": "a28cb2cd",
   "metadata": {},
   "outputs": [],
   "source": [
    "big_features = big_features"
   ]
  },
  {
   "cell_type": "code",
   "execution_count": null,
   "id": "daa3665a",
   "metadata": {},
   "outputs": [],
   "source": [
    "cat_features"
   ]
  },
  {
   "cell_type": "code",
   "execution_count": 37,
   "id": "3f6846cd",
   "metadata": {},
   "outputs": [
    {
     "ename": "CatBoostError",
     "evalue": "bad allocation",
     "output_type": "error",
     "traceback": [
      "\u001b[1;31m---------------------------------------------------------------------------\u001b[0m",
      "\u001b[1;31mCatBoostError\u001b[0m                             Traceback (most recent call last)",
      "Input \u001b[1;32mIn [37]\u001b[0m, in \u001b[0;36m<cell line: 10>\u001b[1;34m()\u001b[0m\n\u001b[0;32m      1\u001b[0m model \u001b[38;5;241m=\u001b[39m CatBoostClassifier(iterations\u001b[38;5;241m=\u001b[39m\u001b[38;5;241m306\u001b[39m,\n\u001b[0;32m      2\u001b[0m                            learning_rate\u001b[38;5;241m=\u001b[39m\u001b[38;5;241m0.0016991916641317583\u001b[39m,\n\u001b[0;32m      3\u001b[0m                            depth\u001b[38;5;241m=\u001b[39m\u001b[38;5;241m4\u001b[39m,\n\u001b[1;32m   (...)\u001b[0m\n\u001b[0;32m      8\u001b[0m                            od_type\u001b[38;5;241m=\u001b[39m\u001b[38;5;124m'\u001b[39m\u001b[38;5;124mIter\u001b[39m\u001b[38;5;124m'\u001b[39m,\n\u001b[0;32m      9\u001b[0m                            od_wait\u001b[38;5;241m=\u001b[39m\u001b[38;5;241m44\u001b[39m, verbose\u001b[38;5;241m=\u001b[39m\u001b[38;5;28;01mFalse\u001b[39;00m)\n\u001b[1;32m---> 10\u001b[0m \u001b[43mmodel\u001b[49m\u001b[38;5;241;43m.\u001b[39;49m\u001b[43mfit\u001b[49m\u001b[43m(\u001b[49m\u001b[43mX_train\u001b[49m\u001b[43m,\u001b[49m\u001b[43m \u001b[49m\u001b[43my_train\u001b[49m\u001b[43m,\u001b[49m\u001b[43m \u001b[49m\u001b[43mcat_features\u001b[49m\u001b[38;5;241;43m=\u001b[39;49m\u001b[43mcat_features\u001b[49m\u001b[43m)\u001b[49m\n\u001b[0;32m     11\u001b[0m pred_mod \u001b[38;5;241m=\u001b[39m model\u001b[38;5;241m.\u001b[39mpredict(X_val)\n\u001b[0;32m     13\u001b[0m \u001b[38;5;66;03m# оценка модели. Тюнинг на recall + много фич\u001b[39;00m\n",
      "File \u001b[1;32m~\\AppData\\Roaming\\Python\\Python39\\site-packages\\catboost\\core.py:5128\u001b[0m, in \u001b[0;36mCatBoostClassifier.fit\u001b[1;34m(self, X, y, cat_features, text_features, embedding_features, sample_weight, baseline, use_best_model, eval_set, verbose, logging_level, plot, plot_file, column_description, verbose_eval, metric_period, silent, early_stopping_rounds, save_snapshot, snapshot_file, snapshot_interval, init_model, callbacks, log_cout, log_cerr)\u001b[0m\n\u001b[0;32m   5125\u001b[0m \u001b[38;5;28;01mif\u001b[39;00m \u001b[38;5;124m'\u001b[39m\u001b[38;5;124mloss_function\u001b[39m\u001b[38;5;124m'\u001b[39m \u001b[38;5;129;01min\u001b[39;00m params:\n\u001b[0;32m   5126\u001b[0m     CatBoostClassifier\u001b[38;5;241m.\u001b[39m_check_is_compatible_loss(params[\u001b[38;5;124m'\u001b[39m\u001b[38;5;124mloss_function\u001b[39m\u001b[38;5;124m'\u001b[39m])\n\u001b[1;32m-> 5128\u001b[0m \u001b[38;5;28;43mself\u001b[39;49m\u001b[38;5;241;43m.\u001b[39;49m\u001b[43m_fit\u001b[49m\u001b[43m(\u001b[49m\u001b[43mX\u001b[49m\u001b[43m,\u001b[49m\u001b[43m \u001b[49m\u001b[43my\u001b[49m\u001b[43m,\u001b[49m\u001b[43m \u001b[49m\u001b[43mcat_features\u001b[49m\u001b[43m,\u001b[49m\u001b[43m \u001b[49m\u001b[43mtext_features\u001b[49m\u001b[43m,\u001b[49m\u001b[43m \u001b[49m\u001b[43membedding_features\u001b[49m\u001b[43m,\u001b[49m\u001b[43m \u001b[49m\u001b[38;5;28;43;01mNone\u001b[39;49;00m\u001b[43m,\u001b[49m\u001b[43m \u001b[49m\u001b[43msample_weight\u001b[49m\u001b[43m,\u001b[49m\u001b[43m \u001b[49m\u001b[38;5;28;43;01mNone\u001b[39;49;00m\u001b[43m,\u001b[49m\u001b[43m \u001b[49m\u001b[38;5;28;43;01mNone\u001b[39;49;00m\u001b[43m,\u001b[49m\u001b[43m \u001b[49m\u001b[38;5;28;43;01mNone\u001b[39;49;00m\u001b[43m,\u001b[49m\u001b[43m \u001b[49m\u001b[38;5;28;43;01mNone\u001b[39;49;00m\u001b[43m,\u001b[49m\u001b[43m \u001b[49m\u001b[43mbaseline\u001b[49m\u001b[43m,\u001b[49m\u001b[43m \u001b[49m\u001b[43muse_best_model\u001b[49m\u001b[43m,\u001b[49m\n\u001b[0;32m   5129\u001b[0m \u001b[43m          \u001b[49m\u001b[43meval_set\u001b[49m\u001b[43m,\u001b[49m\u001b[43m \u001b[49m\u001b[43mverbose\u001b[49m\u001b[43m,\u001b[49m\u001b[43m \u001b[49m\u001b[43mlogging_level\u001b[49m\u001b[43m,\u001b[49m\u001b[43m \u001b[49m\u001b[43mplot\u001b[49m\u001b[43m,\u001b[49m\u001b[43m \u001b[49m\u001b[43mplot_file\u001b[49m\u001b[43m,\u001b[49m\u001b[43m \u001b[49m\u001b[43mcolumn_description\u001b[49m\u001b[43m,\u001b[49m\u001b[43m \u001b[49m\u001b[43mverbose_eval\u001b[49m\u001b[43m,\u001b[49m\u001b[43m \u001b[49m\u001b[43mmetric_period\u001b[49m\u001b[43m,\u001b[49m\n\u001b[0;32m   5130\u001b[0m \u001b[43m          \u001b[49m\u001b[43msilent\u001b[49m\u001b[43m,\u001b[49m\u001b[43m \u001b[49m\u001b[43mearly_stopping_rounds\u001b[49m\u001b[43m,\u001b[49m\u001b[43m \u001b[49m\u001b[43msave_snapshot\u001b[49m\u001b[43m,\u001b[49m\u001b[43m \u001b[49m\u001b[43msnapshot_file\u001b[49m\u001b[43m,\u001b[49m\u001b[43m \u001b[49m\u001b[43msnapshot_interval\u001b[49m\u001b[43m,\u001b[49m\u001b[43m \u001b[49m\u001b[43minit_model\u001b[49m\u001b[43m,\u001b[49m\u001b[43m \u001b[49m\u001b[43mcallbacks\u001b[49m\u001b[43m,\u001b[49m\u001b[43m \u001b[49m\u001b[43mlog_cout\u001b[49m\u001b[43m,\u001b[49m\u001b[43m \u001b[49m\u001b[43mlog_cerr\u001b[49m\u001b[43m)\u001b[49m\n\u001b[0;32m   5131\u001b[0m \u001b[38;5;28;01mreturn\u001b[39;00m \u001b[38;5;28mself\u001b[39m\n",
      "File \u001b[1;32m~\\AppData\\Roaming\\Python\\Python39\\site-packages\\catboost\\core.py:2355\u001b[0m, in \u001b[0;36mCatBoost._fit\u001b[1;34m(self, X, y, cat_features, text_features, embedding_features, pairs, sample_weight, group_id, group_weight, subgroup_id, pairs_weight, baseline, use_best_model, eval_set, verbose, logging_level, plot, plot_file, column_description, verbose_eval, metric_period, silent, early_stopping_rounds, save_snapshot, snapshot_file, snapshot_interval, init_model, callbacks, log_cout, log_cerr)\u001b[0m\n\u001b[0;32m   2351\u001b[0m allow_clear_pool \u001b[38;5;241m=\u001b[39m train_params[\u001b[38;5;124m\"\u001b[39m\u001b[38;5;124mallow_clear_pool\u001b[39m\u001b[38;5;124m\"\u001b[39m]\n\u001b[0;32m   2353\u001b[0m \u001b[38;5;28;01mwith\u001b[39;00m log_fixup(log_cout, log_cerr), \\\n\u001b[0;32m   2354\u001b[0m     plot_wrapper(plot, plot_file, \u001b[38;5;124m'\u001b[39m\u001b[38;5;124mTraining plots\u001b[39m\u001b[38;5;124m'\u001b[39m, [_get_train_dir(\u001b[38;5;28mself\u001b[39m\u001b[38;5;241m.\u001b[39mget_params())]):\n\u001b[1;32m-> 2355\u001b[0m     \u001b[38;5;28;43mself\u001b[39;49m\u001b[38;5;241;43m.\u001b[39;49m\u001b[43m_train\u001b[49m\u001b[43m(\u001b[49m\n\u001b[0;32m   2356\u001b[0m \u001b[43m        \u001b[49m\u001b[43mtrain_pool\u001b[49m\u001b[43m,\u001b[49m\n\u001b[0;32m   2357\u001b[0m \u001b[43m        \u001b[49m\u001b[43mtrain_params\u001b[49m\u001b[43m[\u001b[49m\u001b[38;5;124;43m\"\u001b[39;49m\u001b[38;5;124;43meval_sets\u001b[39;49m\u001b[38;5;124;43m\"\u001b[39;49m\u001b[43m]\u001b[49m\u001b[43m,\u001b[49m\n\u001b[0;32m   2358\u001b[0m \u001b[43m        \u001b[49m\u001b[43mparams\u001b[49m\u001b[43m,\u001b[49m\n\u001b[0;32m   2359\u001b[0m \u001b[43m        \u001b[49m\u001b[43mallow_clear_pool\u001b[49m\u001b[43m,\u001b[49m\n\u001b[0;32m   2360\u001b[0m \u001b[43m        \u001b[49m\u001b[43mtrain_params\u001b[49m\u001b[43m[\u001b[49m\u001b[38;5;124;43m\"\u001b[39;49m\u001b[38;5;124;43minit_model\u001b[39;49m\u001b[38;5;124;43m\"\u001b[39;49m\u001b[43m]\u001b[49m\n\u001b[0;32m   2361\u001b[0m \u001b[43m    \u001b[49m\u001b[43m)\u001b[49m\n\u001b[0;32m   2363\u001b[0m \u001b[38;5;66;03m# Have property feature_importance possibly set\u001b[39;00m\n\u001b[0;32m   2364\u001b[0m loss \u001b[38;5;241m=\u001b[39m \u001b[38;5;28mself\u001b[39m\u001b[38;5;241m.\u001b[39m_object\u001b[38;5;241m.\u001b[39m_get_loss_function_name()\n",
      "File \u001b[1;32m~\\AppData\\Roaming\\Python\\Python39\\site-packages\\catboost\\core.py:1759\u001b[0m, in \u001b[0;36m_CatBoostBase._train\u001b[1;34m(self, train_pool, test_pool, params, allow_clear_pool, init_model)\u001b[0m\n\u001b[0;32m   1758\u001b[0m \u001b[38;5;28;01mdef\u001b[39;00m \u001b[38;5;21m_train\u001b[39m(\u001b[38;5;28mself\u001b[39m, train_pool, test_pool, params, allow_clear_pool, init_model):\n\u001b[1;32m-> 1759\u001b[0m     \u001b[38;5;28;43mself\u001b[39;49m\u001b[38;5;241;43m.\u001b[39;49m\u001b[43m_object\u001b[49m\u001b[38;5;241;43m.\u001b[39;49m\u001b[43m_train\u001b[49m\u001b[43m(\u001b[49m\u001b[43mtrain_pool\u001b[49m\u001b[43m,\u001b[49m\u001b[43m \u001b[49m\u001b[43mtest_pool\u001b[49m\u001b[43m,\u001b[49m\u001b[43m \u001b[49m\u001b[43mparams\u001b[49m\u001b[43m,\u001b[49m\u001b[43m \u001b[49m\u001b[43mallow_clear_pool\u001b[49m\u001b[43m,\u001b[49m\u001b[43m \u001b[49m\u001b[43minit_model\u001b[49m\u001b[38;5;241;43m.\u001b[39;49m\u001b[43m_object\u001b[49m\u001b[43m \u001b[49m\u001b[38;5;28;43;01mif\u001b[39;49;00m\u001b[43m \u001b[49m\u001b[43minit_model\u001b[49m\u001b[43m \u001b[49m\u001b[38;5;28;43;01melse\u001b[39;49;00m\u001b[43m \u001b[49m\u001b[38;5;28;43;01mNone\u001b[39;49;00m\u001b[43m)\u001b[49m\n\u001b[0;32m   1760\u001b[0m     \u001b[38;5;28mself\u001b[39m\u001b[38;5;241m.\u001b[39m_set_trained_model_attributes()\n",
      "File \u001b[1;32m_catboost.pyx:4623\u001b[0m, in \u001b[0;36m_catboost._CatBoost._train\u001b[1;34m()\u001b[0m\n",
      "File \u001b[1;32m_catboost.pyx:4672\u001b[0m, in \u001b[0;36m_catboost._CatBoost._train\u001b[1;34m()\u001b[0m\n",
      "\u001b[1;31mCatBoostError\u001b[0m: bad allocation"
     ]
    }
   ],
   "source": [
    "model = CatBoostClassifier(iterations=306,\n",
    "                           learning_rate=0.0016991916641317583,\n",
    "                           depth=4,\n",
    "                           l2_leaf_reg=0.001175380363184585,\n",
    "                           bootstrap_type='Bayesian',\n",
    "                           random_strength=2.7993283787565373e-07,\n",
    "                           bagging_temperature=9.021784577022341,\n",
    "                           od_type='Iter',\n",
    "                           od_wait=44, verbose=False)\n",
    "model.fit(X_train, y_train, cat_features=cat_features)\n",
    "pred_mod = model.predict(X_val)\n",
    "\n",
    "# оценка модели. Тюнинг на recall + много фич\n",
    "print('Precision:', precision_score(y_val, pred_mod))\n",
    "print('Recall:', recall_score(y_val, pred_mod))\n",
    "\n",
    "aucroc = roc_auc_score(y_val, pred_mod)\n",
    "gini = 2 * aucroc - 1\n",
    "print('AUC ROC:', aucroc)\n",
    "print('Gini:', gini)"
   ]
  },
  {
   "cell_type": "code",
   "execution_count": null,
   "id": "8e7ab185",
   "metadata": {},
   "outputs": [],
   "source": [
    "importance = pd.Series(model.get_feature_importance(),\n",
    "                         X.columns)\n",
    "importance = importance.sort_values(ascending=False)\n",
    "\n",
    "fig, ax = plt.subplots(figsize=(16,14))\n",
    "importance.plot.bar(ax=ax)\n",
    "ax.set_title(\"Важность признаков\")\n",
    "ax.set_ylabel('Важность')\n",
    "fig.tight_layout()"
   ]
  },
  {
   "cell_type": "markdown",
   "id": "ba4b8f64",
   "metadata": {},
   "source": [
    "# ПРОВЕРКА"
   ]
  },
  {
   "cell_type": "code",
   "execution_count": 18,
   "id": "69508a96",
   "metadata": {
    "scrolled": true
   },
   "outputs": [
    {
     "name": "stdout",
     "output_type": "stream",
     "text": [
      "Precision: 0.5119466023314563\n",
      "Recall: 0.999910807703445\n",
      "AUC ROC: 0.5007556369260038\n",
      "Gini: 0.0015112738520075553\n"
     ]
    }
   ],
   "source": [
    "model = CatBoostClassifier(iterations=306,\n",
    "                           learning_rate=0.0016991916641317583,\n",
    "                           depth=4,\n",
    "                           l2_leaf_reg=0.001175380363184585,\n",
    "                           bootstrap_type='Bayesian',\n",
    "                           random_strength=2.7993283787565373e-07,\n",
    "                           bagging_temperature=9.021784577022341,\n",
    "                           od_type='Iter',\n",
    "                           od_wait=44, verbose=False)\n",
    "model.fit(X_train, y_train)\n",
    "pred_mod = model.predict(X_val)\n",
    "\n",
    "# оценка модели. Тюнинг на recall + много фич\n",
    "print('Precision:', precision_score(y_val, pred_mod))\n",
    "print('Recall:', recall_score(y_val, pred_mod))\n",
    "\n",
    "aucroc = roc_auc_score(y_val, pred_mod)\n",
    "gini = 2 * aucroc - 1\n",
    "print('AUC ROC:', aucroc)\n",
    "print('Gini:', gini)"
   ]
  },
  {
   "cell_type": "code",
   "execution_count": 19,
   "id": "43a534d9",
   "metadata": {},
   "outputs": [
    {
     "data": {
      "image/png": "[encoded data removed]",
      "text/plain": [
       "<Figure size 1152x1008 with 1 Axes>"
      ]
     },
     "metadata": {
      "needs_background": "light"
     },
     "output_type": "display_data"
    }
   ],
   "source": [
    "importance = pd.Series(model.get_feature_importance(),\n",
    "                         X.columns)\n",
    "importance = importance.sort_values(ascending=False)\n",
    "\n",
    "fig, ax = plt.subplots(figsize=(16,14))\n",
    "importance.plot.bar(ax=ax)\n",
    "ax.set_title(\"Важность признаков\")\n",
    "ax.set_ylabel('Важность')\n",
    "fig.tight_layout()"
   ]
  },
  {
   "cell_type": "code",
   "execution_count": null,
   "id": "a654f3f7",
   "metadata": {},
   "outputs": [],
   "source": []
  },
  {
   "cell_type": "code",
   "execution_count": null,
   "id": "eab0f65f",
   "metadata": {},
   "outputs": [],
   "source": [
    "# feature_drop = ['trn_sum_from_red', 'product_quantity', 'express_points_spent', 'regular_points_spent', 'express_points_received']"
   ]
  },
  {
   "cell_type": "code",
   "execution_count": 6,
   "id": "72180f15",
   "metadata": {
    "scrolled": false
   },
   "outputs": [
    {
     "data": {
      "text/html": [
       "<div>\n",
       "<style scoped>\n",
       "    .dataframe tbody tr th:only-of-type {\n",
       "        vertical-align: middle;\n",
       "    }\n",
       "\n",
       "    .dataframe tbody tr th {\n",
       "        vertical-align: top;\n",
       "    }\n",
       "\n",
       "    .dataframe thead th {\n",
       "        text-align: right;\n",
       "    }\n",
       "</style>\n",
       "<table border=\"1\" class=\"dataframe\">\n",
       "  <thead>\n",
       "    <tr style=\"text-align: right;\">\n",
       "      <th></th>\n",
       "      <th>client_id</th>\n",
       "      <th>transaction_id</th>\n",
       "      <th>transaction_datetime</th>\n",
       "      <th>regular_points_received</th>\n",
       "      <th>express_points_received</th>\n",
       "      <th>regular_points_spent</th>\n",
       "      <th>express_points_spent</th>\n",
       "      <th>purchase_sum</th>\n",
       "      <th>store_id</th>\n",
       "      <th>product_id</th>\n",
       "      <th>product_quantity</th>\n",
       "      <th>trn_sum_from_iss</th>\n",
       "      <th>trn_sum_from_red</th>\n",
       "      <th>treatment_flg</th>\n",
       "      <th>purchased</th>\n",
       "      <th>age</th>\n",
       "      <th>first_issue_time</th>\n",
       "      <th>first_redeem_time</th>\n",
       "      <th>first_redeem_delay</th>\n",
       "      <th>F</th>\n",
       "      <th>M</th>\n",
       "      <th>U</th>\n",
       "      <th>transaction_count</th>\n",
       "      <th>store_count</th>\n",
       "      <th>product_count</th>\n",
       "      <th>product_sum</th>\n",
       "      <th>purchase_sum_max</th>\n",
       "      <th>transaction_shop</th>\n",
       "      <th>transaction_product</th>\n",
       "      <th>transaction_product_sum</th>\n",
       "      <th>new_target</th>\n",
       "    </tr>\n",
       "  </thead>\n",
       "  <tbody>\n",
       "    <tr>\n",
       "      <th>0</th>\n",
       "      <td>000012768d</td>\n",
       "      <td>7e3e2e3984</td>\n",
       "      <td>2018-12-01 07:12:45</td>\n",
       "      <td>10.0</td>\n",
       "      <td>0.0</td>\n",
       "      <td>0.0</td>\n",
       "      <td>0.0</td>\n",
       "      <td>1007.0</td>\n",
       "      <td>54a4a11a29</td>\n",
       "      <td>9a80204f78</td>\n",
       "      <td>2.0</td>\n",
       "      <td>80.0</td>\n",
       "      <td>NaN</td>\n",
       "      <td>0</td>\n",
       "      <td>1</td>\n",
       "      <td>45</td>\n",
       "      <td>1501947648</td>\n",
       "      <td>1.515094e+09</td>\n",
       "      <td>13146559.0</td>\n",
       "      <td>0</td>\n",
       "      <td>0</td>\n",
       "      <td>1</td>\n",
       "      <td>4</td>\n",
       "      <td>3</td>\n",
       "      <td>46</td>\n",
       "      <td>54.0</td>\n",
       "      <td>1007.0</td>\n",
       "      <td>1.333333</td>\n",
       "      <td>11.5</td>\n",
       "      <td>13.5</td>\n",
       "      <td>0</td>\n",
       "    </tr>\n",
       "    <tr>\n",
       "      <th>1</th>\n",
       "      <td>000012768d</td>\n",
       "      <td>7e3e2e3984</td>\n",
       "      <td>2018-12-01 07:12:45</td>\n",
       "      <td>10.0</td>\n",
       "      <td>0.0</td>\n",
       "      <td>0.0</td>\n",
       "      <td>0.0</td>\n",
       "      <td>1007.0</td>\n",
       "      <td>54a4a11a29</td>\n",
       "      <td>da89ebd374</td>\n",
       "      <td>1.0</td>\n",
       "      <td>65.0</td>\n",
       "      <td>NaN</td>\n",
       "      <td>0</td>\n",
       "      <td>1</td>\n",
       "      <td>45</td>\n",
       "      <td>1501947648</td>\n",
       "      <td>1.515094e+09</td>\n",
       "      <td>13146559.0</td>\n",
       "      <td>0</td>\n",
       "      <td>0</td>\n",
       "      <td>1</td>\n",
       "      <td>4</td>\n",
       "      <td>3</td>\n",
       "      <td>46</td>\n",
       "      <td>54.0</td>\n",
       "      <td>1007.0</td>\n",
       "      <td>1.333333</td>\n",
       "      <td>11.5</td>\n",
       "      <td>13.5</td>\n",
       "      <td>0</td>\n",
       "    </tr>\n",
       "    <tr>\n",
       "      <th>2</th>\n",
       "      <td>000012768d</td>\n",
       "      <td>7e3e2e3984</td>\n",
       "      <td>2018-12-01 07:12:45</td>\n",
       "      <td>10.0</td>\n",
       "      <td>0.0</td>\n",
       "      <td>0.0</td>\n",
       "      <td>0.0</td>\n",
       "      <td>1007.0</td>\n",
       "      <td>54a4a11a29</td>\n",
       "      <td>0a95e1151d</td>\n",
       "      <td>1.0</td>\n",
       "      <td>24.0</td>\n",
       "      <td>NaN</td>\n",
       "      <td>0</td>\n",
       "      <td>1</td>\n",
       "      <td>45</td>\n",
       "      <td>1501947648</td>\n",
       "      <td>1.515094e+09</td>\n",
       "      <td>13146559.0</td>\n",
       "      <td>0</td>\n",
       "      <td>0</td>\n",
       "      <td>1</td>\n",
       "      <td>4</td>\n",
       "      <td>3</td>\n",
       "      <td>46</td>\n",
       "      <td>54.0</td>\n",
       "      <td>1007.0</td>\n",
       "      <td>1.333333</td>\n",
       "      <td>11.5</td>\n",
       "      <td>13.5</td>\n",
       "      <td>0</td>\n",
       "    </tr>\n",
       "    <tr>\n",
       "      <th>3</th>\n",
       "      <td>000012768d</td>\n",
       "      <td>7e3e2e3984</td>\n",
       "      <td>2018-12-01 07:12:45</td>\n",
       "      <td>10.0</td>\n",
       "      <td>0.0</td>\n",
       "      <td>0.0</td>\n",
       "      <td>0.0</td>\n",
       "      <td>1007.0</td>\n",
       "      <td>54a4a11a29</td>\n",
       "      <td>4055b15e4a</td>\n",
       "      <td>2.0</td>\n",
       "      <td>50.0</td>\n",
       "      <td>NaN</td>\n",
       "      <td>0</td>\n",
       "      <td>1</td>\n",
       "      <td>45</td>\n",
       "      <td>1501947648</td>\n",
       "      <td>1.515094e+09</td>\n",
       "      <td>13146559.0</td>\n",
       "      <td>0</td>\n",
       "      <td>0</td>\n",
       "      <td>1</td>\n",
       "      <td>4</td>\n",
       "      <td>3</td>\n",
       "      <td>46</td>\n",
       "      <td>54.0</td>\n",
       "      <td>1007.0</td>\n",
       "      <td>1.333333</td>\n",
       "      <td>11.5</td>\n",
       "      <td>13.5</td>\n",
       "      <td>0</td>\n",
       "    </tr>\n",
       "    <tr>\n",
       "      <th>4</th>\n",
       "      <td>000012768d</td>\n",
       "      <td>7e3e2e3984</td>\n",
       "      <td>2018-12-01 07:12:45</td>\n",
       "      <td>10.0</td>\n",
       "      <td>0.0</td>\n",
       "      <td>0.0</td>\n",
       "      <td>0.0</td>\n",
       "      <td>1007.0</td>\n",
       "      <td>54a4a11a29</td>\n",
       "      <td>a685f1916b</td>\n",
       "      <td>1.0</td>\n",
       "      <td>22.0</td>\n",
       "      <td>NaN</td>\n",
       "      <td>0</td>\n",
       "      <td>1</td>\n",
       "      <td>45</td>\n",
       "      <td>1501947648</td>\n",
       "      <td>1.515094e+09</td>\n",
       "      <td>13146559.0</td>\n",
       "      <td>0</td>\n",
       "      <td>0</td>\n",
       "      <td>1</td>\n",
       "      <td>4</td>\n",
       "      <td>3</td>\n",
       "      <td>46</td>\n",
       "      <td>54.0</td>\n",
       "      <td>1007.0</td>\n",
       "      <td>1.333333</td>\n",
       "      <td>11.5</td>\n",
       "      <td>13.5</td>\n",
       "      <td>0</td>\n",
       "    </tr>\n",
       "  </tbody>\n",
       "</table>\n",
       "</div>"
      ],
      "text/plain": [
       "    client_id transaction_id transaction_datetime  regular_points_received  \\\n",
       "0  000012768d     7e3e2e3984  2018-12-01 07:12:45                     10.0   \n",
       "1  000012768d     7e3e2e3984  2018-12-01 07:12:45                     10.0   \n",
       "2  000012768d     7e3e2e3984  2018-12-01 07:12:45                     10.0   \n",
       "3  000012768d     7e3e2e3984  2018-12-01 07:12:45                     10.0   \n",
       "4  000012768d     7e3e2e3984  2018-12-01 07:12:45                     10.0   \n",
       "\n",
       "   express_points_received  regular_points_spent  express_points_spent  \\\n",
       "0                      0.0                   0.0                   0.0   \n",
       "1                      0.0                   0.0                   0.0   \n",
       "2                      0.0                   0.0                   0.0   \n",
       "3                      0.0                   0.0                   0.0   \n",
       "4                      0.0                   0.0                   0.0   \n",
       "\n",
       "   purchase_sum    store_id  product_id  product_quantity  trn_sum_from_iss  \\\n",
       "0        1007.0  54a4a11a29  9a80204f78               2.0              80.0   \n",
       "1        1007.0  54a4a11a29  da89ebd374               1.0              65.0   \n",
       "2        1007.0  54a4a11a29  0a95e1151d               1.0              24.0   \n",
       "3        1007.0  54a4a11a29  4055b15e4a               2.0              50.0   \n",
       "4        1007.0  54a4a11a29  a685f1916b               1.0              22.0   \n",
       "\n",
       "   trn_sum_from_red  treatment_flg  purchased  age  first_issue_time  \\\n",
       "0               NaN              0          1   45        1501947648   \n",
       "1               NaN              0          1   45        1501947648   \n",
       "2               NaN              0          1   45        1501947648   \n",
       "3               NaN              0          1   45        1501947648   \n",
       "4               NaN              0          1   45        1501947648   \n",
       "\n",
       "   first_redeem_time  first_redeem_delay  F  M  U  transaction_count  \\\n",
       "0       1.515094e+09          13146559.0  0  0  1                  4   \n",
       "1       1.515094e+09          13146559.0  0  0  1                  4   \n",
       "2       1.515094e+09          13146559.0  0  0  1                  4   \n",
       "3       1.515094e+09          13146559.0  0  0  1                  4   \n",
       "4       1.515094e+09          13146559.0  0  0  1                  4   \n",
       "\n",
       "   store_count  product_count  product_sum  purchase_sum_max  \\\n",
       "0            3             46         54.0            1007.0   \n",
       "1            3             46         54.0            1007.0   \n",
       "2            3             46         54.0            1007.0   \n",
       "3            3             46         54.0            1007.0   \n",
       "4            3             46         54.0            1007.0   \n",
       "\n",
       "   transaction_shop  transaction_product  transaction_product_sum  new_target  \n",
       "0          1.333333                 11.5                     13.5           0  \n",
       "1          1.333333                 11.5                     13.5           0  \n",
       "2          1.333333                 11.5                     13.5           0  \n",
       "3          1.333333                 11.5                     13.5           0  \n",
       "4          1.333333                 11.5                     13.5           0  "
      ]
     },
     "execution_count": 6,
     "metadata": {},
     "output_type": "execute_result"
    }
   ],
   "source": [
    "new_train_2.head()"
   ]
  },
  {
   "cell_type": "code",
   "execution_count": null,
   "id": "d4034fdb",
   "metadata": {},
   "outputs": [],
   "source": []
  },
  {
   "cell_type": "code",
   "execution_count": 29,
   "id": "2eacdced",
   "metadata": {},
   "outputs": [
    {
     "data": {
      "text/plain": [
       "<catboost.core.CatBoostClassifier at 0x21683faa610>"
      ]
     },
     "execution_count": 29,
     "metadata": {},
     "output_type": "execute_result"
    }
   ],
   "source": [
    "model.fit(X, y)"
   ]
  },
  {
   "cell_type": "markdown",
   "id": "ded2c8d4",
   "metadata": {},
   "source": [
    "### Предсказание test`a. Сохранение."
   ]
  },
  {
   "cell_type": "code",
   "execution_count": 51,
   "id": "0fd697b6",
   "metadata": {
    "scrolled": true
   },
   "outputs": [],
   "source": [
    "new_test_drop = new_test.drop('client_id', axis=1)\n",
    "itog = model.predict_proba(new_test_drop)\n",
    "itog = itog[:, 1]\n",
    "df = {'client_id': new_test.client_id, 'pred': itog}\n",
    "YED = pd.DataFrame(data=df)"
   ]
  },
  {
   "cell_type": "code",
   "execution_count": 56,
   "id": "e5ad2c0f",
   "metadata": {
    "scrolled": true
   },
   "outputs": [],
   "source": [
    "YED = YED.drop_duplicates(subset=['client_id'])"
   ]
  },
  {
   "cell_type": "code",
   "execution_count": 58,
   "id": "a6fb88df",
   "metadata": {},
   "outputs": [],
   "source": [
    "YED.to_csv(r'C:/Users/adosf/OneDrive/Рабочий стол/ЦФТ/x5-uplift-valid/data/YED_5.csv',index=False)"
   ]
  },
  {
   "cell_type": "code",
   "execution_count": null,
   "id": "d825fb5a",
   "metadata": {},
   "outputs": [],
   "source": []
  },
  {
   "cell_type": "markdown",
   "id": "4129aa58",
   "metadata": {},
   "source": [
    "### Использую sklift"
   ]
  },
  {
   "cell_type": "code",
   "execution_count": 64,
   "id": "df525055",
   "metadata": {},
   "outputs": [
    {
     "name": "stdout",
     "output_type": "stream",
     "text": [
      "Defaulting to user installation because normal site-packages is not writeable\n",
      "Requirement already satisfied: scikit-uplift in c:\\users\\adosf\\appdata\\roaming\\python\\python39\\site-packages (0.5.1)\n",
      "Requirement already satisfied: catboost in c:\\users\\adosf\\appdata\\roaming\\python\\python39\\site-packages (1.1.1)\n",
      "Requirement already satisfied: pandas in c:\\programdata\\anaconda3\\lib\\site-packages (1.4.2)\n",
      "Requirement already satisfied: matplotlib in c:\\programdata\\anaconda3\\lib\\site-packages (from scikit-uplift) (3.5.1)\n",
      "Requirement already satisfied: requests in c:\\programdata\\anaconda3\\lib\\site-packages (from scikit-uplift) (2.27.1)\n",
      "Requirement already satisfied: scikit-learn>=0.21.0 in c:\\programdata\\anaconda3\\lib\\site-packages (from scikit-uplift) (1.0.2)\n",
      "Requirement already satisfied: tqdm in c:\\programdata\\anaconda3\\lib\\site-packages (from scikit-uplift) (4.64.0)\n",
      "Requirement already satisfied: numpy>=1.16 in c:\\programdata\\anaconda3\\lib\\site-packages (from scikit-uplift) (1.21.5)\n",
      "Requirement already satisfied: plotly in c:\\programdata\\anaconda3\\lib\\site-packages (from catboost) (5.6.0)\n",
      "Requirement already satisfied: six in c:\\programdata\\anaconda3\\lib\\site-packages (from catboost) (1.16.0)\n",
      "Requirement already satisfied: graphviz in c:\\users\\adosf\\appdata\\roaming\\python\\python39\\site-packages (from catboost) (0.20.1)\n",
      "Requirement already satisfied: scipy in c:\\programdata\\anaconda3\\lib\\site-packages (from catboost) (1.7.3)\n",
      "Requirement already satisfied: python-dateutil>=2.8.1 in c:\\programdata\\anaconda3\\lib\\site-packages (from pandas) (2.8.2)\n",
      "Requirement already satisfied: pytz>=2020.1 in c:\\programdata\\anaconda3\\lib\\site-packages (from pandas) (2021.3)\n",
      "Requirement already satisfied: threadpoolctl>=2.0.0 in c:\\programdata\\anaconda3\\lib\\site-packages (from scikit-learn>=0.21.0->scikit-uplift) (2.2.0)\n",
      "Requirement already satisfied: joblib>=0.11 in c:\\programdata\\anaconda3\\lib\\site-packages (from scikit-learn>=0.21.0->scikit-uplift) (1.1.0)\n",
      "Requirement already satisfied: kiwisolver>=1.0.1 in c:\\programdata\\anaconda3\\lib\\site-packages (from matplotlib->scikit-uplift) (1.3.2)\n",
      "Requirement already satisfied: fonttools>=4.22.0 in c:\\programdata\\anaconda3\\lib\\site-packages (from matplotlib->scikit-uplift) (4.25.0)\n",
      "Requirement already satisfied: pyparsing>=2.2.1 in c:\\programdata\\anaconda3\\lib\\site-packages (from matplotlib->scikit-uplift) (3.0.4)\n",
      "Requirement already satisfied: pillow>=6.2.0 in c:\\programdata\\anaconda3\\lib\\site-packages (from matplotlib->scikit-uplift) (9.0.1)\n",
      "Requirement already satisfied: packaging>=20.0 in c:\\programdata\\anaconda3\\lib\\site-packages (from matplotlib->scikit-uplift) (21.3)\n",
      "Requirement already satisfied: cycler>=0.10 in c:\\programdata\\anaconda3\\lib\\site-packages (from matplotlib->scikit-uplift) (0.11.0)\n",
      "Requirement already satisfied: tenacity>=6.2.0 in c:\\programdata\\anaconda3\\lib\\site-packages (from plotly->catboost) (8.0.1)\n",
      "Requirement already satisfied: certifi>=2017.4.17 in c:\\programdata\\anaconda3\\lib\\site-packages (from requests->scikit-uplift) (2021.10.8)\n",
      "Requirement already satisfied: charset-normalizer~=2.0.0 in c:\\programdata\\anaconda3\\lib\\site-packages (from requests->scikit-uplift) (2.0.4)\n",
      "Requirement already satisfied: urllib3<1.27,>=1.21.1 in c:\\programdata\\anaconda3\\lib\\site-packages (from requests->scikit-uplift) (1.26.9)\n",
      "Requirement already satisfied: idna<4,>=2.5 in c:\\programdata\\anaconda3\\lib\\site-packages (from requests->scikit-uplift) (3.3)\n",
      "Requirement already satisfied: colorama in c:\\programdata\\anaconda3\\lib\\site-packages (from tqdm->scikit-uplift) (0.4.4)\n"
     ]
    }
   ],
   "source": [
    "import sys\n",
    "\n",
    "# install uplift library scikit-uplift and other libraries \n",
    "!{sys.executable} -m pip install scikit-uplift catboost pandas"
   ]
  },
  {
   "cell_type": "code",
   "execution_count": 11,
   "id": "e5bc1c57",
   "metadata": {},
   "outputs": [],
   "source": [
    "from sklift.metrics import uplift_at_k\n",
    "from sklift.viz import plot_uplift_preds\n",
    "from sklift.models import TwoModels"
   ]
  },
  {
   "cell_type": "code",
   "execution_count": null,
   "id": "16891986",
   "metadata": {},
   "outputs": [],
   "source": []
  },
  {
   "cell_type": "code",
   "execution_count": 13,
   "id": "e73ec166",
   "metadata": {},
   "outputs": [],
   "source": [
    "# определение переменных\n",
    "X = new_train_2.drop(['purchased', \n",
    "                      'client_id', \n",
    "                      'treatment_flg', \n",
    "#                       'new_target', \n",
    "                      'transaction_id', \n",
    "                      'transaction_datetime', \n",
    "                      'store_id', \n",
    "                      'product_id'], axis=1)\n",
    "y = new_train_2['purchased']\n",
    "treatment = new_train_2['treatment_flg']\n",
    "\n",
    "\n",
    "X_train, X_val, y_train, y_val, treatment_train, treatment_val = train_test_split(X, y, treatment, test_size=0.3, random_state=42)"
   ]
  },
  {
   "cell_type": "code",
   "execution_count": 14,
   "id": "8879228c",
   "metadata": {},
   "outputs": [],
   "source": [
    "tm_clf = TwoModels(\n",
    "    estimator_trmnt=CatBoostClassifier(iterations=306,\n",
    "                           learning_rate=0.0016991916641317583,\n",
    "                           depth=4,\n",
    "                           l2_leaf_reg=0.001175380363184585,\n",
    "                           bootstrap_type='Bayesian',\n",
    "                           random_strength=2.7993283787565373e-07,\n",
    "                           bagging_temperature=9.021784577022341,\n",
    "                           od_type='Iter',\n",
    "                           od_wait=44, verbose=False), \n",
    "    estimator_ctrl=CatBoostClassifier(iterations=306,\n",
    "                           learning_rate=0.0016991916641317583,\n",
    "                           depth=4,\n",
    "                           l2_leaf_reg=0.001175380363184585,\n",
    "                           bootstrap_type='Bayesian',\n",
    "                           random_strength=2.7993283787565373e-07,\n",
    "                           bagging_temperature=9.021784577022341,\n",
    "                           od_type='Iter',\n",
    "                           od_wait=44, verbose=False), \n",
    "    method='vanilla'\n",
    ")\n",
    "\n",
    "tm_clf = tm_clf.fit(\n",
    "    X_train, y_train, treatment_train\n",
    ")"
   ]
  },
  {
   "cell_type": "code",
   "execution_count": 15,
   "id": "e1736968",
   "metadata": {},
   "outputs": [],
   "source": [
    "uplift_tm = tm_clf.predict(X_val)\n",
    "tm_score = uplift_at_k(y_true=y_val, uplift=uplift_tm, treatment=treatment_val, strategy='by_group', k=0.3)"
   ]
  },
  {
   "cell_type": "code",
   "execution_count": 16,
   "id": "eef7cab9",
   "metadata": {},
   "outputs": [
    {
     "data": {
      "text/plain": [
       "array([0.01413532, 0.0054883 , 0.01073426, ..., 0.0112515 , 0.01376096,\n",
       "       0.00854628])"
      ]
     },
     "execution_count": 16,
     "metadata": {},
     "output_type": "execute_result"
    }
   ],
   "source": [
    "uplift_tm"
   ]
  },
  {
   "cell_type": "code",
   "execution_count": null,
   "id": "439eb059",
   "metadata": {},
   "outputs": [],
   "source": []
  },
  {
   "cell_type": "code",
   "execution_count": 17,
   "id": "9ae27085",
   "metadata": {},
   "outputs": [],
   "source": [
    "tm_full = tm_clf.fit(\n",
    "    X, \n",
    "    y, \n",
    "    treatment, \n",
    ")"
   ]
  },
  {
   "cell_type": "code",
   "execution_count": null,
   "id": "4aee4f63",
   "metadata": {},
   "outputs": [],
   "source": []
  },
  {
   "cell_type": "code",
   "execution_count": 77,
   "id": "ad3c23c8",
   "metadata": {},
   "outputs": [],
   "source": [
    "new_test_drop = new_test.drop('client_id', axis=1)"
   ]
  },
  {
   "cell_type": "code",
   "execution_count": 78,
   "id": "56c148d7",
   "metadata": {},
   "outputs": [],
   "source": [
    "uplift_tm_full = tm_full.predict(new_test_drop)\n",
    "uplift_df = {'client_id': new_test.client_id, 'uplift': uplift_tm_full}\n",
    "YED = pd.DataFrame(data=uplift_df)"
   ]
  },
  {
   "cell_type": "code",
   "execution_count": 79,
   "id": "5550628d",
   "metadata": {},
   "outputs": [],
   "source": [
    "YED = YED.groupby('client_id',as_index=False).uplift.mean()\n",
    "YED = YED.sort_values('uplift', ascending=False)"
   ]
  },
  {
   "cell_type": "code",
   "execution_count": 90,
   "id": "49b9cb71",
   "metadata": {},
   "outputs": [],
   "source": [
    "YED = YED.assign(pred = 0)\n",
    "YED['pred'].mask(YED['uplift'] >= 0.017, 1, inplace=True)"
   ]
  },
  {
   "cell_type": "code",
   "execution_count": null,
   "id": "113f3f91",
   "metadata": {},
   "outputs": [],
   "source": []
  },
  {
   "cell_type": "code",
   "execution_count": 93,
   "id": "f17853a0",
   "metadata": {
    "scrolled": true
   },
   "outputs": [],
   "source": [
    "YED_6 = YED.drop('uplift', axis=1)"
   ]
  },
  {
   "cell_type": "code",
   "execution_count": 95,
   "id": "0cf897ab",
   "metadata": {},
   "outputs": [],
   "source": [
    "YED_6.to_csv(r'C:/Users/adosf/OneDrive/Рабочий стол/ЦФТ/x5-uplift-valid/data/YED_7.csv',index=False)"
   ]
  },
  {
   "cell_type": "code",
   "execution_count": null,
   "id": "03408a0b",
   "metadata": {},
   "outputs": [],
   "source": []
  }
 ],
 "metadata": {
  "kernelspec": {
   "display_name": "Python 3 (ipykernel)",
   "language": "python",
   "name": "python3"
  },
  "language_info": {
   "codemirror_mode": {
    "name": "ipython",
    "version": 3
   },
   "file_extension": ".py",
   "mimetype": "text/x-python",
   "name": "python",
   "nbconvert_exporter": "python",
   "pygments_lexer": "ipython3",
   "version": "3.9.12"
  }
 },
 "nbformat": 4,
 "nbformat_minor": 5
}
